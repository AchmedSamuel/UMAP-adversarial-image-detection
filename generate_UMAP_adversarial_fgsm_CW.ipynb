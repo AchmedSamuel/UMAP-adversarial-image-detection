{
 "cells": [
  {
   "cell_type": "code",
   "execution_count": null,
   "id": "e81dea9c-f93a-4e9b-b973-6fe34e51b3d3",
   "metadata": {
    "scrolled": true
   },
   "outputs": [],
   "source": [
    "!pip install umap-learn\n",
    "!pip install adversarial-robustness-toolbox"
   ]
  },
  {
   "cell_type": "code",
   "execution_count": null,
   "id": "dc34bca6-66a9-4c01-bb77-6b6ee2992fa1",
   "metadata": {},
   "outputs": [],
   "source": [
    "import pandas as pd\n",
    "import numpy as np\n",
    "import umap\n",
    "import tensorflow as tf\n",
    "\n",
    "from umap import UMAP\n",
    "from sklearn.preprocessing import LabelEncoder\n",
    "from sklearn.model_selection import train_test_split\n",
    "from art.attacks.evasion import FastGradientMethod, CarliniLInfMethod\n",
    "from tensorflow.keras.datasets import mnist, cifar10\n",
    "from art.estimators.classification import KerasClassifier\n",
    "tf.compat.v1.disable_eager_execution()"
   ]
  },
  {
   "cell_type": "code",
   "execution_count": null,
   "id": "c63fbea8-ec3b-4c4d-b357-47d98eaa1fe2",
   "metadata": {},
   "outputs": [],
   "source": [
    "# Load the MNIST data\n",
    "(x_train, y_train), (x_test, y_test) = mnist.load_data()\n",
    "\n",
    "# Load CIFAR10 dataset\n",
    "#(x_train, y_train), (x_test, y_test) = cifar10.load_data()\n",
    "\n",
    "# Flatten and normalize the data\n",
    "x_train = x_train.reshape((x_train.shape[0], -1)) / 255.0\n",
    "x_test = x_test.reshape((x_test.shape[0], -1)) / 255.0\n",
    "\n",
    "# Create a copy of the original data for legitimate samples\n",
    "legitimate_x = np.copy(x_test)\n",
    "legitimate_y = np.copy(y_test)\n"
   ]
  },
  {
   "cell_type": "code",
   "execution_count": null,
   "id": "4d66de63-cfba-4697-a7d6-a4b67b88bce9",
   "metadata": {},
   "outputs": [],
   "source": [
    "# Build UMAP 2D, 3D, 5D and 10D components\n",
    "umap_2d = UMAP(n_neighbors=15, n_components=2, min_dist=0.1, random_state=42)\n",
    "umap_3d = UMAP(n_neighbors=15, n_components=3, min_dist=0.1, random_state=42)\n",
    "umap_5d = UMAP(n_neighbors=15, n_components=5, min_dist=0.1, random_state=42)\n",
    "umap_10d = UMAP(n_neighbors=15, n_components=10, min_dist=0.1, random_state=42)\n",
    "\n",
    "# Transform legitimate data to 2D, 3D, 5D and 10D\n",
    "umap_2d_legitimate = umap_2d.fit_transform(legitimate_x)\n",
    "umap_3d_legitimate = umap_3d.fit_transform(legitimate_x)\n",
    "umap_5d_legitimate = umap_2d.fit_transform(legitimate_x)\n",
    "umap_10d_legitimate = umap_3d.fit_transform(legitimate_x)"
   ]
  },
  {
   "cell_type": "code",
   "execution_count": null,
   "id": "a3de901a-d838-4c95-bc66-10cd70868a49",
   "metadata": {},
   "outputs": [],
   "source": [
    "# Load pre-trained model\n",
    "model = tf.keras.models.load_model(\"mnist_CNN_model.h5\") # MNIST\n",
    "\n",
    "#model = tf.keras.models.load_model(\"cifar10_CNN_model.h5\") # CIFAr10"
   ]
  },
  {
   "cell_type": "code",
   "execution_count": null,
   "id": "0c50bc53-c156-423b-9a3d-9128539e90fa",
   "metadata": {},
   "outputs": [],
   "source": [
    "# Create an ART classifier for FGSM attack\n",
    "classifier_fgsm = KerasClassifier(model=model, clip_values=(0, 1), use_logits=False)\n",
    "\n",
    "# Generate adversarial examples for FGSM\n",
    "legitimate_x = legitimate_x.reshape(-1, 28, 28, 1) #MNIST\n",
    "#legitimate_x = legitimate_x.reshape(-1, 32, 32, 3) #CIFAR10\n",
    "fgsm = FastGradientMethod(classifier_fgsm, eps=0.01)\n",
    "x_test_adv_fgsm = fgsm.generate(legitimate_x)\n",
    "\n",
    "# Transform the adversarial data to 2D and 3D\n",
    "x_test_adv_fgsm = x_test_adv_fgsm.reshape(x_test_adv_fgsm.shape[0], -1)\n",
    "umap_2d_attack_fgsm = umap_2d.fit_transform(x_test_adv_fgsm)\n",
    "umap_3d_attack_fgsm = umap_3d.fit_transform(x_test_adv_fgsm)\n",
    "umap_5d_attack_fgsm = umap_5d.fit_transform(x_test_adv_fgsm)\n",
    "umap_10d_attack_fgsm = umap_10d.fit_transform(x_test_adv_fgsm)\n"
   ]
  },
  {
   "cell_type": "code",
   "execution_count": null,
   "id": "55fad43f-b6c7-4f60-a6bf-66a74ba9a110",
   "metadata": {},
   "outputs": [],
   "source": [
    "# Create UMAP transformers for 2D and 3D\n",
    "column_names = [f\"umap{i}\" for i in range(2)]\n",
    "data_2d_legitimate = pd.DataFrame(umap_2d_legitimate, columns=column_names)\n",
    "data_2d_attack_fgsm = pd.DataFrame(umap_2d_attack_fgsm, columns=column_names)\n",
    "\n",
    "column_names = [f\"umap{i}\" for i in range(3)]\n",
    "data_3d_legitimate = pd.DataFrame(umap_3d_legitimate, columns=column_names)\n",
    "data_3d_attack_fgsm = pd.DataFrame(umap_3d_attack_fgsm, columns=column_names)\n",
    "\n",
    "column_names = [f\"umap{i}\" for i in range(5)]\n",
    "data_5d_legitimate = pd.DataFrame(umap_5d_legitimate, columns=column_names)\n",
    "data_5d_attack_fgsm = pd.DataFrame(umap_5d_attack_fgsm, columns=column_names)\n",
    "\n",
    "column_names = [f\"umap{i}\" for i in range(10)]\n",
    "data_10d_legitimate = pd.DataFrame(umap_10d_legitimate, columns=column_names)\n",
    "data_10d_attack_fgsm = pd.DataFrame(umap_10d_attack_fgsm, columns=column_names)"
   ]
  },
  {
   "cell_type": "code",
   "execution_count": null,
   "id": "ebe074a7-0396-4348-9d52-1f52ad8875b4",
   "metadata": {},
   "outputs": [],
   "source": [
    "# Add labels for the features\n",
    "data_2d_legitimate[\"attack\"] = 0  # Legitimate samples labeled as 0\n",
    "data_2d_attack_fgsm[\"attack\"] = 1  # FGSM attack samples labeled as 1\n",
    "\n",
    "data_3d_legitimate[\"attack\"] = 0  \n",
    "data_3d_attack_fgsm[\"attack\"] = 1  \n",
    "\n",
    "data_5d_legitimate[\"attack\"] = 0  \n",
    "data_5d_attack_fgsm[\"attack\"] = 1  \n",
    "\n",
    "data_10d_legitimate[\"attack\"] = 0  \n",
    "data_10d_attack_fgsm[\"attack\"] = 1  \n",
    "\n",
    "# Combine the dataframes\n",
    "UMAP2D_data = pd.concat([data_2d_legitimate, data_2d_attack_fgsm], axis=0)\n",
    "UMAP3D_data = pd.concat([data_3d_legitimate, data_3d_attack_fgsm], axis=0)\n",
    "UMAP5D_data = pd.concat([data_5d_legitimate, data_5d_attack_fgsm], axis=0)\n",
    "UMAP10D_data = pd.concat([data_10d_legitimate, data_10d_attack_fgsm], axis=0)\n",
    "\n",
    "# Save the dataframe to a CSV file\n",
    "UMAP2D_data.to_csv(\"Umap_data_2D_fgsm.csv\", index=False)\n",
    "UMAP3D_data.to_csv(\"Umap_data_3D_fgsm.csv\", index=False)\n",
    "UMAP5D_data.to_csv(\"Umap_data_5D_fgsm.csv\", index=False)\n",
    "UMAP10D_data.to_csv(\"Umap_data_10D_fgsm.csv\", index=False)"
   ]
  },
  {
   "cell_type": "markdown",
   "id": "e5617b6c-91bb-494c-9b5f-8510bf139cc3",
   "metadata": {},
   "source": [
    "### Carlini-Wagner"
   ]
  },
  {
   "cell_type": "code",
   "execution_count": null,
   "id": "9351af8d-1d3e-42fb-b2bc-2236e02ac33e",
   "metadata": {},
   "outputs": [],
   "source": [
    "# Create an ART classifier for CW attack\n",
    "classifier_cw = KerasClassifier(model=model, clip_values=(0, 1), use_logits=False)\n",
    "\n",
    "# Generate adversarial examples for CW\n",
    "Adv_xcw = legitimate_x.reshape(-1, 28, 28, 1) #MNIST\n",
    "#Adv_xcw = legitimate_x.reshape(-1, 32, 32, 3) #CIFAR10\n",
    "\n",
    "Adv_cw = CarliniLInfMethod(classifier_cw, confidence=1.0, max_iter=20, targeted=False, initial_const=1e-3, largest_const=2e-3)\n",
    "x_test_adv_cw = Adv_cw.generate(Adv_xcw)"
   ]
  },
  {
   "cell_type": "code",
   "execution_count": null,
   "id": "e7de4340-aeba-4cfa-bf44-bb161e4d3571",
   "metadata": {},
   "outputs": [],
   "source": [
    "# Transform the adversarial data to 2D using UMAP\n",
    "Adv_xcw = Adv_xcw.reshape(Adv_xcw.shape[0], -1)\n",
    "umap_2d_attack_cw = umap_2d.fit_transform(Adv_xcw)\n",
    "umap_3d_attack_cw = umap_3d.fit_transform(Adv_xcw)\n",
    "umap_5d_attack_cw = umap_5d.fit_transform(Adv_xcw)\n",
    "umap_10d_attack_cw = umap_10d.fit_transform(Adv_xcw)"
   ]
  },
  {
   "cell_type": "code",
   "execution_count": null,
   "id": "60c63329-7343-40c1-a571-0d1dc9d59d73",
   "metadata": {},
   "outputs": [],
   "source": [
    "# Create UMAP transformers for 2D and 3D\n",
    "column_names = [f\"umap{i}\" for i in range(2)]\n",
    "data_2d_legitimate = pd.DataFrame(umap_2d_legitimate, columns=column_names)\n",
    "data_2d_attack_cw = pd.DataFrame(umap_2d_attack_cw, columns=column_names)\n",
    "\n",
    "column_names = [f\"umap{i}\" for i in range(3)]\n",
    "data_3d_legitimate = pd.DataFrame(umap_3d_legitimate, columns=column_names)\n",
    "data_3d_attack_cw = pd.DataFrame(umap_3d_attack_cw, columns=column_names)\n",
    "\n",
    "column_names = [f\"umap{i}\" for i in range(5)]\n",
    "data_5d_legitimate = pd.DataFrame(umap_5d_legitimate, columns=column_names)\n",
    "data_5d_attack_cw = pd.DataFrame(umap_5d_attack_cw, columns=column_names)\n",
    "\n",
    "column_names = [f\"umap{i}\" for i in range(10)]\n",
    "data_10d_legitimate = pd.DataFrame(umap_10d_legitimate, columns=column_names)\n",
    "data_10d_attack_cw = pd.DataFrame(umap_10d_attack_cw, columns=column_names)"
   ]
  },
  {
   "cell_type": "code",
   "execution_count": null,
   "id": "04b9b61d-f3e7-4a62-bdf9-b326b866f564",
   "metadata": {},
   "outputs": [],
   "source": [
    "# Add labels for the features\n",
    "data_2d_legitimate[\"attack\"] = 0  # Legitimate samples labeled as 0\n",
    "data_2d_attack_cw[\"attack\"] = 1  # CW attack samples labeled as 1\n",
    "\n",
    "data_3d_legitimate[\"attack\"] = 0  \n",
    "data_3d_attack_cw[\"attack\"] = 1  \n",
    "\n",
    "data_5d_legitimate[\"attack\"] = 0  \n",
    "data_5d_attack_cw[\"attack\"] = 1\n",
    "\n",
    "data_10d_legitimate[\"attack\"] = 0  \n",
    "data_10d_attack_cw[\"attack\"] = 1\n",
    "\n",
    "# Combine the dataframes\n",
    "UMAP2D_data = pd.concat([data_2d_legitimate, data_2d_attack_cw], axis=0)\n",
    "UMAP3D_data = pd.concat([data_3d_legitimate, data_3d_attack_cw], axis=0)\n",
    "UMAP5D_data = pd.concat([data_5d_legitimate, data_5d_attack_cw], axis=0)\n",
    "UMAP10D_data = pd.concat([data_10d_legitimate, data_10d_attack_cw], axis=0)\n",
    "\n",
    "# Save the dataframe to a CSV file\n",
    "UMAP2D_data.to_csv(\"Umap_data_2D_cw.csv\", index=False)\n",
    "UMAP3D_data.to_csv(\"Umap_data_3D_cw.csv\", index=False)\n",
    "UMAP5D_data.to_csv(\"Umap_data_5D_cw.csv\", index=False)\n",
    "UMAP10D_data.to_csv(\"Umap_data_5D_cw.csv\", index=False)"
   ]
  }
 ],
 "metadata": {
  "kernelspec": {
   "display_name": "Python 3 (ipykernel)",
   "language": "python",
   "name": "python3"
  },
  "language_info": {
   "codemirror_mode": {
    "name": "ipython",
    "version": 3
   },
   "file_extension": ".py",
   "mimetype": "text/x-python",
   "name": "python",
   "nbconvert_exporter": "python",
   "pygments_lexer": "ipython3",
   "version": "3.12.7"
  }
 },
 "nbformat": 4,
 "nbformat_minor": 5
}
