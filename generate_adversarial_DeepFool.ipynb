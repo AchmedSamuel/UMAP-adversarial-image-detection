{
 "cells": [
  {
   "cell_type": "code",
   "execution_count": null,
   "id": "48d4a1a6-0c40-4004-bc8c-f40ab32eec92",
   "metadata": {},
   "outputs": [],
   "source": [
    "!pip install adversarial robustness toolbox\n",
    "!pip install foolbox\n",
    "!pip install umap-learn\n",
    "!pip install multiprocess"
   ]
  },
  {
   "cell_type": "code",
   "execution_count": null,
   "id": "d3814dd0-e646-4b76-8418-031eb43f2045",
   "metadata": {},
   "outputs": [],
   "source": [
    "import pandas as np\n",
    "import numpy as pd\n",
    "import tensorflow as tf\n",
    "import matplotlib.pyplot as plt\n",
    "import umap\n",
    "from umap import UMAP\n",
    "from tensorflow.keras.models import load_model\n",
    "from art.estimators.classification import TensorFlowV2Classifier\n",
    "from tensorflow.keras.datasets import mnist\n",
    "#from art.attacks.evasion import FastGradientMethod, CarliniLInfMethod\n",
    "from art.attacks.evasion import DeepFool"
   ]
  },
  {
   "cell_type": "code",
   "execution_count": null,
   "id": "44ceaee1-1766-4cab-a2bf-d282a26c1518",
   "metadata": {},
   "outputs": [],
   "source": [
    "# Load and preprocess MNIST\n",
    "(x_train, y_train), (x_test, y_test) = mnist.load_data()\n",
    "\n",
    "\n",
    "# Subset the test data to 1000 samples\n",
    "x_test = x_test[:7000]\n",
    "y_test = y_test[:7000]\n",
    "\n",
    "# Flatten and normalize\n",
    "x_test_flat = x_test.reshape((x_test.shape[0], -1)) / 255.0\n",
    "\n",
    "# Create a copy of the original data\n",
    "legitimate_x = np.copy(x_test_flat)\n",
    "legitimate_y = np.copy(y_test)"
   ]
  },
  {
   "cell_type": "code",
   "execution_count": null,
   "id": "d21fe880-d492-49dd-9f2d-939efa37c053",
   "metadata": {},
   "outputs": [],
   "source": [
    "# Fit UMAP for dimensionality reduction\n",
    "umap_2d = UMAP(n_neighbors=15, n_components=2, min_dist=0.1, random_state=42)\n",
    "umap_3d = UMAP(n_neighbors=15, n_components=3, min_dist=0.1, random_state=42)\n",
    "umap_5d = UMAP(n_neighbors=15, n_components=5, min_dist=0.1, random_state=42)\n",
    "umap_10d = UMAP(n_neighbors=15, n_components=10, min_dist=0.1, random_state=42)"
   ]
  },
  {
   "cell_type": "code",
   "execution_count": null,
   "id": "2aeec244-03b0-4d79-bcda-3c9d0f9cabb9",
   "metadata": {},
   "outputs": [],
   "source": [
    "# Fit UMAP on legitimate data\n",
    "umap_2d_legitimate = umap_2d.fit_transform(legitimate_x)\n",
    "umap_3d_legitimate = umap_3d.fit_transform(legitimate_x)\n",
    "umap_5d_legitimate = umap_5d.fit_transform(legitimate_x)\n",
    "umap_10d_legitimate = umap_10d.fit_transform(legitimate_x)"
   ]
  },
  {
   "cell_type": "code",
   "execution_count": null,
   "id": "9ed85d9f-d5d4-432d-859d-aa3a65427d18",
   "metadata": {},
   "outputs": [],
   "source": [
    "# Load pre-trained CNN model\n",
    "model = load_model(\"mnist_CNN_model.h5\")\n",
    "\n",
    "# Create ART classifier wrapper (no input_shape)\n",
    "loss_object = tf.keras.losses.CategoricalCrossentropy()\n",
    "deepfool_classifier = TensorFlowV2Classifier(\n",
    "    model=model,\n",
    "    loss_object=loss_object,\n",
    "    nb_classes=10,\n",
    "    input_shape=(28, 28, 1),\n",
    "    clip_values=(0.0, 1.0)\n",
    ")"
   ]
  },
  {
   "cell_type": "code",
   "execution_count": null,
   "id": "cdc3e4d9-51fe-45a7-a2a8-d46304d9faf0",
   "metadata": {},
   "outputs": [],
   "source": [
    "# Reshape legitimate inputs for CNN\n",
    "legitimate_x = legitimate_x.reshape(-1, 28, 28, 1)\n",
    "\n",
    "# 10. Create DeepFool attack with batch_size\n",
    "deepfool_attack = DeepFool(\n",
    "    classifier=deepfool_classifier,\n",
    "    max_iter=100,\n",
    "    epsilon=1e-6,\n",
    "    nb_grads=20,\n",
    "    batch_size=64,\n",
    "    verbose=True\n",
    ")\n",
    "\n",
    "# Generate adversarial examples\n",
    "x_test_adv_deepfool = deepfool_attack.generate(x=legitimate_x)\n"
   ]
  },
  {
   "cell_type": "code",
   "execution_count": null,
   "id": "9bf26db0-061e-4c60-b8ac-a22273bb1a93",
   "metadata": {},
   "outputs": [],
   "source": [
    "# sanity check on clean images\n",
    "\n",
    "# Predict the labels before and after the attack\n",
    "preds_legit = np.argmax(model.predict(legitimate_x), axis=1)\n",
    "preds_adv = np.argmax(model.predict(x_test_adv_deepfool), axis=1)\n",
    "\n",
    "# Compute the number of successful attacks\n",
    "successful_attacks = np.sum(preds_legit != preds_adv)\n",
    "total_samples = len(legitimate_x)\n",
    "success_rate = successful_attacks / total_samples\n",
    "\n",
    "print(f\"DeepFool Success Rate: {success_rate:.2%}\")"
   ]
  },
  {
   "cell_type": "code",
   "execution_count": null,
   "id": "46d179cb-b8e0-4bc6-a00c-54774b35828f",
   "metadata": {},
   "outputs": [],
   "source": [
    "# Flatten for UMAP\n",
    "x_adv_deepfool = x_test_adv_deepfool.reshape((x_test_adv_deepfool.shape[0], -1))\n",
    "\n",
    "# UMAP projection of adversarial examples\n",
    "adv_2d_deepfool = umap_2d.fit_transform(x_adv_deepfool)\n",
    "adv_3d_deepfool = umap_3d.fit_transform(x_adv_deepfool)\n",
    "adv_5d_deepfool = umap_5d.fit_transform(x_adv_deepfool)\n",
    "adv_10d_deepfool = umap_10d.fit_transform(x_adv_deepfool)"
   ]
  },
  {
   "cell_type": "code",
   "execution_count": null,
   "id": "b7c8fe1a-c30b-45bf-b09b-4225c8e0efbf",
   "metadata": {},
   "outputs": [],
   "source": [
    "# Create UMAP transformers for 2D\n",
    "column_names = [f\"umap{i}\" for i in range(2)]\n",
    "data_2d_legitimate = pd.DataFrame(umap_2d_legitimate, columns=column_names)\n",
    "data_2d_deepfool = pd.DataFrame(adv_2d_deepfool, columns=column_names)\n",
    "\n",
    "# Create UMAP transformers for 3D\n",
    "column_names = [f\"umap{i}\" for i in range(3)]\n",
    "data_3d_legitimate = pd.DataFrame(umap_3d_legitimate, columns=column_names)\n",
    "data_3d_deepfool = pd.DataFrame(adv_3d_deepfool, columns=column_names)\n",
    "\n",
    "# Create UMAP transformers for 5D\n",
    "column_names = [f\"umap{i}\" for i in range(5)]\n",
    "data_5d_legitimate = pd.DataFrame(umap_5d_legitimate, columns=column_names)\n",
    "data_5d_deepfool = pd.DataFrame(adv_5d_deepfool, columns=column_names)\n",
    "\n",
    "# Create UMAP transformers for 10D\n",
    "column_names = [f\"umap{i}\" for i in range(10)]\n",
    "data_10d_legitimate = pd.DataFrame(umap_10d_legitimate, columns=column_names)\n",
    "data_10d_deepfool = pd.DataFrame(adv_10d_deepfool, columns=column_names)"
   ]
  },
  {
   "cell_type": "code",
   "execution_count": null,
   "id": "70de467d-2dc2-40b3-a9ad-807d565e875b",
   "metadata": {},
   "outputs": [],
   "source": [
    "# Add labels for the features\n",
    "data_2d_legitimate[\"attack\"] = 0  # Legitimate samples labeled as 0\n",
    "data_2d_deepfool[\"attack\"] = 1  # FGSM attack samples labeled as 1\n",
    "\n",
    "data_3d_legitimate[\"attack\"] = 0  \n",
    "data_3d_deepfool[\"attack\"] = 1  \n",
    "\n",
    "data_5d_legitimate[\"attack\"] = 0  \n",
    "data_5d_deepfool[\"attack\"] = 1  \n",
    "\n",
    "data_10d_legitimate[\"attack\"] = 0  \n",
    "data_10d_deepfool[\"attack\"] = 1  \n",
    "\n",
    "\n",
    "# Combine the dataframes\n",
    "UMAP2D_data = pd.concat([data_2d_legitimate, data_2d_deepfool], axis=0)\n",
    "UMAP3D_data = pd.concat([data_3d_legitimate, data_3d_deepfool], axis=0)\n",
    "UMAP5D_data = pd.concat([data_5d_legitimate, data_5d_deepfool], axis=0)\n",
    "UMAP10D_data = pd.concat([data_10d_legitimate, data_10d_deepfool], axis=0)\n",
    "\n",
    "\n",
    "# Save the dataframe to a CSV file\n",
    "UMAP2D_data.to_csv(\"Umap_data_2D_deepfool_7000.csv\", index=False)\n",
    "UMAP3D_data.to_csv(\"Umap_data_3D_deepfoo1_7000.csv\", index=False)\n",
    "UMAP5D_data.to_csv(\"Umap_data_5D_deepfool_7000.csv\", index=False)\n",
    "UMAP10D_data.to_csv(\"Umap_data_10D_deepfool_7000.csv\", index=False)"
   ]
  }
 ],
 "metadata": {
  "kernelspec": {
   "display_name": "Python [conda env:navgroud_dnn_lna]",
   "language": "python",
   "name": "conda-env-navgroud_dnn_lna-py"
  },
  "language_info": {
   "codemirror_mode": {
    "name": "ipython",
    "version": 3
   },
   "file_extension": ".py",
   "mimetype": "text/x-python",
   "name": "python",
   "nbconvert_exporter": "python",
   "pygments_lexer": "ipython3",
   "version": "3.9.12"
  }
 },
 "nbformat": 4,
 "nbformat_minor": 5
}
